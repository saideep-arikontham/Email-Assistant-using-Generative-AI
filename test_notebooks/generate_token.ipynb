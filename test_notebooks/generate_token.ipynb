{
 "cells": [
  {
   "cell_type": "code",
   "execution_count": 1,
   "id": "9d39bc91",
   "metadata": {},
   "outputs": [],
   "source": [
    "from __future__ import print_function\n",
    "import os.path\n",
    "from google.auth.transport.requests import Request\n",
    "from google.oauth2.credentials import Credentials\n",
    "from google_auth_oauthlib.flow import InstalledAppFlow\n",
    "\n"
   ]
  },
  {
   "cell_type": "code",
   "execution_count": 2,
   "id": "9b601e15",
   "metadata": {},
   "outputs": [
    {
     "name": "stdout",
     "output_type": "stream",
     "text": [
      "/Users/saideepbunny/Projects/Email-Assistant-using-Generative-AI\n"
     ]
    }
   ],
   "source": [
    "### Getting Path of current file\n",
    "import os\n",
    "import sys\n",
    "from pathlib import Path\n",
    "\n",
    "path = Path(os.path.dirname(os.getcwd()))\n",
    "path = str(path)\n",
    "print(path)\n",
    "sys.path.insert(1, path)"
   ]
  },
  {
   "cell_type": "code",
   "execution_count": 3,
   "id": "c5398adc",
   "metadata": {},
   "outputs": [
    {
     "name": "stdout",
     "output_type": "stream",
     "text": [
      "Please visit this URL to authorize this application: https://accounts.google.com/o/oauth2/auth?response_type=code&client_id=395571329513-g3sb7jontm63qg9nieleombub84s9mi8.apps.googleusercontent.com&redirect_uri=http%3A%2F%2Flocalhost%3A8080%2F&scope=https%3A%2F%2Fwww.googleapis.com%2Fauth%2Fgmail.readonly+https%3A%2F%2Fwww.googleapis.com%2Fauth%2Fgmail.send+https%3A%2F%2Fwww.googleapis.com%2Fauth%2Fcalendar+https%3A%2F%2Fwww.googleapis.com%2Fauth%2Fcalendar.events&state=DhtiqLEO6atOoytLSlNyFAqRxo7dSg&access_type=offline&prompt=consent\n",
      "🔐 token.json successfully created.\n"
     ]
    }
   ],
   "source": [
    "# Required scopes for Gmail and Calendar\n",
    "SCOPES = [\n",
    "    'https://www.googleapis.com/auth/gmail.readonly',\n",
    "    'https://www.googleapis.com/auth/gmail.send',\n",
    "    'https://www.googleapis.com/auth/calendar',\n",
    "    'https://www.googleapis.com/auth/calendar.events'\n",
    "]\n",
    "\n",
    "def generate_token():\n",
    "    creds = None\n",
    "    if os.path.exists(f'{path}/config/token.json'):\n",
    "        print(\"✅ token.json already exists.\")\n",
    "        return\n",
    "    if os.path.exists(f'{path}/config/client_secret.json'):\n",
    "        flow = InstalledAppFlow.from_client_secrets_file(f'{path}/config/client_secret.json', SCOPES)\n",
    "        creds = flow.run_local_server(port=8080, access_type='offline', prompt='consent')\n",
    "        with open(f'{path}/config/token.json', 'w') as token:\n",
    "            token.write(creds.to_json())\n",
    "        print(\"🔐 token.json successfully created.\")\n",
    "    else:\n",
    "        print(\"❌ client_secret.json not found.\")\n",
    "\n",
    "if __name__ == '__main__':\n",
    "    generate_token()"
   ]
  }
 ],
 "metadata": {
  "kernelspec": {
   "display_name": "Python 3 (ipykernel)",
   "language": "python",
   "name": "python3"
  },
  "language_info": {
   "codemirror_mode": {
    "name": "ipython",
    "version": 3
   },
   "file_extension": ".py",
   "mimetype": "text/x-python",
   "name": "python",
   "nbconvert_exporter": "python",
   "pygments_lexer": "ipython3",
   "version": "3.11.10"
  }
 },
 "nbformat": 4,
 "nbformat_minor": 5
}
