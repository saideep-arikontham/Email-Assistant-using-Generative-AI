{
 "cells": [
  {
   "cell_type": "code",
   "execution_count": 1,
   "id": "7e60e4d8",
   "metadata": {},
   "outputs": [],
   "source": [
    "import os.path\n",
    "import base64\n",
    "from google.oauth2.credentials import Credentials\n",
    "from googleapiclient.discovery import build\n",
    "\n"
   ]
  },
  {
   "cell_type": "code",
   "execution_count": 2,
   "id": "ca8c012c",
   "metadata": {},
   "outputs": [
    {
     "name": "stdout",
     "output_type": "stream",
     "text": [
      "/Users/saideepbunny/Projects/Email-Assistant-using-Generative-AI\n"
     ]
    }
   ],
   "source": [
    "### Getting Path of current file\n",
    "import os\n",
    "import sys\n",
    "from pathlib import Path\n",
    "\n",
    "path = Path(os.path.dirname(os.getcwd()))\n",
    "path = str(path)\n",
    "print(path)\n",
    "sys.path.insert(1, path)"
   ]
  },
  {
   "cell_type": "code",
   "execution_count": 3,
   "id": "1ed155c4",
   "metadata": {},
   "outputs": [
    {
     "name": "stdout",
     "output_type": "stream",
     "text": [
      "📬 From: arikonthamsaideep@gmail.com\n",
      "📅 Date: Tue, 8 Jul 2025 09:06:09 -0700\n",
      "📝 Subject: Meeting Invitation – Google Meet Link\n",
      "📨 Body:\n",
      "Hi,\n",
      "\n",
      "Here’s your Google Meet link:\n",
      "https://meet.google.com/fse-mrmo-ktw\n",
      "\n",
      "See you there!\n",
      "------------------------------------------------------------\n",
      "📬 From: arikonthamsaideep@gmail.com\n",
      "📅 Date: Tue, 8 Jul 2025 09:05:27 -0700\n",
      "📝 Subject: Test Email from Python-2\n",
      "📨 Body:\n",
      "This is a test email using Gmail API.\n",
      "------------------------------------------------------------\n",
      "📬 From: arikonthamsaideep@gmail.com\n",
      "📅 Date: Tue, 8 Jul 2025 08:54:56 -0700\n",
      "📝 Subject: Meeting Invitation – Google Meet Link\n",
      "📨 Body:\n",
      "Hi,\n",
      "\n",
      "Here’s your Google Meet link:\n",
      "https://meet.google.com/uct-jnhj-nor\n",
      "\n",
      "See you there!\n",
      "------------------------------------------------------------\n",
      "📬 From: arikonthamsaideep@gmail.com\n",
      "📅 Date: Tue, 8 Jul 2025 08:53:31 -0700\n",
      "📝 Subject: Test Email from Python-2\n",
      "📨 Body:\n",
      "This is a test email using Gmail API.\n",
      "------------------------------------------------------------\n",
      "📬 From: arikonthamsaideep@gmail.com\n",
      "📅 Date: Tue, 8 Jul 2025 08:24:23 -0700\n",
      "📝 Subject: 📅 Meeting Invitation – Google Meet Link\n",
      "📨 Body:\n",
      "Hi,\n",
      "\n",
      "Here’s your Google Meet link:\n",
      "https://meet.google.com/gdd-uotr-eik\n",
      "\n",
      "See you there!\n",
      "------------------------------------------------------------\n"
     ]
    }
   ],
   "source": [
    "def get_email_body(payload):\n",
    "    if 'parts' in payload:\n",
    "        for part in payload['parts']:\n",
    "            body = get_email_body(part)\n",
    "            if body:\n",
    "                return body\n",
    "    elif payload.get('mimeType') == 'text/plain':\n",
    "        data = payload['body'].get('data')\n",
    "        if data:\n",
    "            decoded = base64.urlsafe_b64decode(data).decode('utf-8')\n",
    "            return decoded.strip()\n",
    "    return \"(No plain text body found)\"\n",
    "\n",
    "def read_emails():\n",
    "    creds = Credentials.from_authorized_user_file(f'{path}/config/token.json')\n",
    "    service = build('gmail', 'v1', credentials=creds)\n",
    "\n",
    "    results = service.users().messages().list(userId='me', maxResults=5).execute()\n",
    "    messages = results.get('messages', [])\n",
    "\n",
    "    for msg in messages:\n",
    "        msg_data = service.users().messages().get(userId='me', id=msg['id'], format='full').execute()\n",
    "        headers = msg_data['payload'].get('headers', [])\n",
    "\n",
    "        subject = sender = date = \"(Not found)\"\n",
    "\n",
    "        for header in headers:\n",
    "            name = header.get('name', '').lower()\n",
    "            if name == 'subject':\n",
    "                subject = header.get('value', '(No Subject)')\n",
    "            elif name == 'from':\n",
    "                sender = header.get('value', '(No Sender)')\n",
    "            elif name == 'date':\n",
    "                date = header.get('value', '(No Date)')\n",
    "\n",
    "        body = get_email_body(msg_data['payload'])\n",
    "\n",
    "        print(f\"📬 From: {sender}\")\n",
    "        print(f\"📅 Date: {date}\")\n",
    "        print(f\"📝 Subject: {subject}\")\n",
    "        print(f\"📨 Body:\\n{body}\")\n",
    "        print('-' * 60)\n",
    "\n",
    "\n",
    "if __name__ == '__main__':\n",
    "    read_emails()\n"
   ]
  }
 ],
 "metadata": {
  "kernelspec": {
   "display_name": "mail_asst",
   "language": "python",
   "name": "python3"
  },
  "language_info": {
   "codemirror_mode": {
    "name": "ipython",
    "version": 3
   },
   "file_extension": ".py",
   "mimetype": "text/x-python",
   "name": "python",
   "nbconvert_exporter": "python",
   "pygments_lexer": "ipython3",
   "version": "3.10.18"
  }
 },
 "nbformat": 4,
 "nbformat_minor": 5
}
