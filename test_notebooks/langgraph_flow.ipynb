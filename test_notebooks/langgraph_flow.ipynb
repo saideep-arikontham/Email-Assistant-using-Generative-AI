{
 "cells": [
  {
   "cell_type": "markdown",
   "metadata": {},
   "source": [
    "# Langgraph flow"
   ]
  },
  {
   "cell_type": "markdown",
   "metadata": {},
   "source": [
    "## Importing libarries"
   ]
  },
  {
   "cell_type": "code",
   "execution_count": 1,
   "metadata": {},
   "outputs": [],
   "source": [
    "from typing_extensions import TypedDict\n",
    "from typing import Literal\n",
    "\n",
    "from langgraph.graph import StateGraph, START, END\n",
    "import json"
   ]
  },
  {
   "cell_type": "markdown",
   "metadata": {},
   "source": [
    "## LangGraph state class"
   ]
  },
  {
   "cell_type": "code",
   "execution_count": 2,
   "metadata": {},
   "outputs": [],
   "source": [
    "# Utility Functions\n",
    "\n",
    "class TypedDictState(TypedDict):\n",
    "    state: str\n",
    "    email: str\n",
    "    classification: Literal[\"job_status\", \"online_meet\", \"other\"]\n",
    "    job_details: dict\n",
    "    tracker_update: Literal[\"Successful\", \"Failed\"]\n",
    "    meet_request_details: dict\n",
    "    meet_details: dict\n",
    "    meet_link_sent: Literal[\"Successful\", \"Failed\"]"
   ]
  },
  {
   "cell_type": "markdown",
   "metadata": {},
   "source": [
    "## Email Classification and Routing functions"
   ]
  },
  {
   "cell_type": "code",
   "execution_count": 3,
   "metadata": {},
   "outputs": [],
   "source": [
    "def classify_email(state: TypedDictState) -> dict:\n",
    "    \"\"\"\n",
    "    This function reads the email, classifies it, and updates the state.\n",
    "    \"\"\"\n",
    "    \n",
    "    print(\"---CLASSIFYING EMAIL---\")\n",
    "    email = state.get('email')\n",
    "\n",
    "    if(email == \"job\"):\n",
    "        classification = \"job_status\"\n",
    "    elif(email == \"meet\"):\n",
    "        classification = \"online_meet\"\n",
    "    elif(email == \"other\"):\n",
    "        classification = \"other\"\n",
    "    return {\"classification\": classification}\n",
    "\n",
    "\n",
    "def route_after_classification(state: TypedDictState) -> Literal[\"job_status\", \"online_meet\", \"other\"]:\n",
    "    \"\"\"\n",
    "    Routes to the correct path based on the email classification stored in the state.\n",
    "    \"\"\"\n",
    "    print(f\"Routing to: {state['classification']}\")\n",
    "    return state[\"classification\"]\n"
   ]
  },
  {
   "cell_type": "markdown",
   "metadata": {},
   "source": [
    "## Job tracker flow"
   ]
  },
  {
   "cell_type": "code",
   "execution_count": 4,
   "metadata": {},
   "outputs": [],
   "source": [
    "def job_status(state: TypedDictState) -> dict:\n",
    "    \"\"\"A placeholder node representing the job_status check step.\"\"\"\n",
    "    print(\"---IN JOB STATUS PATH---\")\n",
    "    return {}\n",
    "\n",
    "def identify_job_details(state: TypedDictState):\n",
    "    print(\"This function reads the email to extract job title, company name and job status\")\n",
    "    return {\"job_details\": {\"title\": \"Data Scientist\", \"company\": \"Google\", \"status\": \"applied\"}, \"state\": \"Job details extracted\"}\n",
    "\n",
    "def update_tracker(state: TypedDictState):\n",
    "    print(\"This function updated the tracker with extracted job details\")\n",
    "    return {\"tracker_update\": \"Successful\", \"state\": \"Tracker update successful\"}\n"
   ]
  },
  {
   "cell_type": "markdown",
   "metadata": {},
   "source": [
    "## Online Meet scheduling flow"
   ]
  },
  {
   "cell_type": "code",
   "execution_count": 5,
   "metadata": {},
   "outputs": [],
   "source": [
    "def online_meet(state: TypedDictState) -> dict:\n",
    "    \"\"\"A placeholder node representing the online_meet check step.\"\"\"\n",
    "    print(\"---IN ONLINE MEET PATH---\")\n",
    "    return {}\n",
    "\n",
    "def online_meet_tracking_allowed(state: TypedDictState):\n",
    "    print(\"User allowed Meet scheduler, flow triggered\")\n",
    "    return {\"state\": \"User allowed Meet scheduler, flow triggered\"}\n",
    "\n",
    "def online_meet_tracking_denied(state: TypedDictState):\n",
    "    print(\"User denied Meet scheduler, Ending flow\")\n",
    "    return {\"state\": \"User denied Meet scheduler, Ending flow\"}\n",
    "\n",
    "def identify_meet_timings(state: TypedDictState):\n",
    "    print(\"This function reads the email to extract online meet requested date, time, duration\")\n",
    "    return {\"meet_request_details\": {\"requested_by\": \"johndoe@gmail.com\", \"date\": \"2025-07-13\", \"time\": \"9:00\", \"duration\": \"00:30\"}, \"state\": \"meeting request details extracted\"}\n",
    "\n",
    "def create_meet(state: TypedDictState):\n",
    "    print(\"This function is to create online meet based on identified details\")\n",
    "    return {\"meet_details\": {\"meet_link\": \"abcd link\"}, \"state\": \"meet link created\"}\n",
    "\n",
    "def send_meet_link(state: TypedDictState):\n",
    "    print(\"This function is to draft and send email including meet link\")\n",
    "    return {\"meet_link_sent\": \"Successful\", \"state\": \"meet link sent\"}"
   ]
  },
  {
   "cell_type": "markdown",
   "metadata": {},
   "source": [
    "## Other flow"
   ]
  },
  {
   "cell_type": "code",
   "execution_count": 6,
   "metadata": {},
   "outputs": [],
   "source": [
    "def other(state: TypedDictState):\n",
    "    print(\"---IN OTHER PATH---\")\n",
    "    return {\"state\": \"Other flow triggered\"}"
   ]
  },
  {
   "cell_type": "markdown",
   "metadata": {},
   "source": [
    "## Building LangGraph"
   ]
  },
  {
   "cell_type": "code",
   "execution_count": 7,
   "metadata": {},
   "outputs": [
    {
     "data": {
      "text/plain": [
       "<langgraph.graph.state.StateGraph at 0x10910f160>"
      ]
     },
     "execution_count": 7,
     "metadata": {},
     "output_type": "execute_result"
    }
   ],
   "source": [
    "# Build the LangGraph\n",
    "graph_builder = StateGraph(TypedDictState)\n",
    "\n",
    "# Graph Nodes\n",
    "graph_builder.add_node(\"classify_email\", classify_email)\n",
    "graph_builder.add_node(\"job_status\", job_status)\n",
    "graph_builder.add_node(\"online_meet\", online_meet)\n",
    "graph_builder.add_node(\"other\", other)\n",
    "\n",
    "graph_builder.add_node(\"identify_job_details\", identify_job_details)\n",
    "graph_builder.add_node(\"update_tracker\", update_tracker)\n",
    "\n",
    "graph_builder.add_node(\"identify_meet_timings\", identify_meet_timings)\n",
    "graph_builder.add_node(\"create_meet\", create_meet)\n",
    "graph_builder.add_node(\"send_meet_link\", send_meet_link)\n",
    "\n",
    "# Graph Edges\n",
    "graph_builder.add_edge(START, \"classify_email\")\n",
    "\n",
    "\n",
    "graph_builder.add_conditional_edges(\"classify_email\", route_after_classification)\n",
    "\n",
    "graph_builder.add_edge(\"job_status\", \"identify_job_details\")\n",
    "graph_builder.add_edge(\"identify_job_details\", \"update_tracker\")\n",
    "graph_builder.add_edge(\"update_tracker\", END)\n",
    "\n",
    "graph_builder.add_edge(\"online_meet\", \"identify_meet_timings\")\n",
    "graph_builder.add_edge(\"identify_meet_timings\", \"create_meet\")\n",
    "graph_builder.add_edge(\"create_meet\", \"send_meet_link\")\n",
    "graph_builder.add_edge(\"send_meet_link\", END)\n",
    "\n",
    "graph_builder.add_edge(\"other\", END)\n"
   ]
  },
  {
   "cell_type": "markdown",
   "metadata": {},
   "source": [
    "## Creating Graph and Displaying"
   ]
  },
  {
   "cell_type": "code",
   "execution_count": 8,
   "metadata": {},
   "outputs": [
    {
     "data": {
      "image/png": "[encoded data removed]",
      "text/plain": [
       "<IPython.core.display.Image object>"
      ]
     },
     "metadata": {},
     "output_type": "display_data"
    }
   ],
   "source": [
    "# Compile the graph\n",
    "graph = graph_builder.compile()\n",
    "\n",
    "from IPython.display import Image, display\n",
    "\n",
    "try:\n",
    "    display(Image(graph.get_graph().draw_mermaid_png()))\n",
    "except Exception:\n",
    "    # This requires some extra dependencies and is optional\n",
    "    print(\"gone\")\n",
    "    pass"
   ]
  },
  {
   "cell_type": "markdown",
   "metadata": {},
   "source": [
    "## Testing LangGraph"
   ]
  },
  {
   "cell_type": "code",
   "execution_count": 9,
   "metadata": {},
   "outputs": [
    {
     "name": "stdout",
     "output_type": "stream",
     "text": [
      "Invoking with 'job' email...\n",
      "---CLASSIFYING EMAIL---\n",
      "Routing to: job_status\n",
      "---IN JOB STATUS PATH---\n",
      "This function reads the email to extract job title, company name and job status\n",
      "This function updated the tracker with extracted job details\n"
     ]
    },
    {
     "data": {
      "text/plain": [
       "{'state': 'Tracker update successful',\n",
       " 'email': 'job',\n",
       " 'classification': 'job_status',\n",
       " 'job_details': {'title': 'Data Scientist',\n",
       "  'company': 'Google',\n",
       "  'status': 'applied'},\n",
       " 'tracker_update': 'Successful'}"
      ]
     },
     "execution_count": 9,
     "metadata": {},
     "output_type": "execute_result"
    }
   ],
   "source": [
    "print(\"Invoking with 'job' email...\")\n",
    "graph.invoke({\"email\": \"job\"})"
   ]
  },
  {
   "cell_type": "code",
   "execution_count": 10,
   "metadata": {},
   "outputs": [
    {
     "name": "stdout",
     "output_type": "stream",
     "text": [
      "\n",
      "Invoking with 'meet' email...\n",
      "---CLASSIFYING EMAIL---\n",
      "Routing to: online_meet\n",
      "---IN ONLINE MEET PATH---\n",
      "This function reads the email to extract online meet requested date, time, duration\n",
      "This function is to create online meet based on identified details\n",
      "This function is to draft and send email including meet link\n"
     ]
    },
    {
     "data": {
      "text/plain": [
       "{'state': 'meet link sent',\n",
       " 'email': 'meet',\n",
       " 'classification': 'online_meet',\n",
       " 'meet_request_details': {'requested_by': 'johndoe@gmail.com',\n",
       "  'date': '2025-07-13',\n",
       "  'time': '9:00',\n",
       "  'duration': '00:30'},\n",
       " 'meet_details': {'meet_link': 'abcd link'},\n",
       " 'meet_link_sent': 'Successful'}"
      ]
     },
     "execution_count": 10,
     "metadata": {},
     "output_type": "execute_result"
    }
   ],
   "source": [
    "print(\"\\nInvoking with 'meet' email...\")\n",
    "graph.invoke({\"email\": \"meet\"})"
   ]
  },
  {
   "cell_type": "code",
   "execution_count": 11,
   "metadata": {},
   "outputs": [
    {
     "name": "stdout",
     "output_type": "stream",
     "text": [
      "\n",
      "Invoking with 'other' email...\n",
      "---CLASSIFYING EMAIL---\n",
      "Routing to: other\n",
      "---IN OTHER PATH---\n"
     ]
    },
    {
     "data": {
      "text/plain": [
       "{'state': 'Other flow triggered', 'email': 'other', 'classification': 'other'}"
      ]
     },
     "execution_count": 11,
     "metadata": {},
     "output_type": "execute_result"
    }
   ],
   "source": [
    "print(\"\\nInvoking with 'other' email...\")\n",
    "graph.invoke({\"email\": \"other\"})"
   ]
  }
 ],
 "metadata": {
  "kernelspec": {
   "display_name": "Python (mail_asst)",
   "language": "python",
   "name": "mail_asst"
  },
  "language_info": {
   "codemirror_mode": {
    "name": "ipython",
    "version": 3
   },
   "file_extension": ".py",
   "mimetype": "text/x-python",
   "name": "python",
   "nbconvert_exporter": "python",
   "pygments_lexer": "ipython3",
   "version": "3.10.18"
  }
 },
 "nbformat": 4,
 "nbformat_minor": 4
}
