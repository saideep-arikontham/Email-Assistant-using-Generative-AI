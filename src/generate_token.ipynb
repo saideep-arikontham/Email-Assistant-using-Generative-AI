{
 "cells": [
  {
   "cell_type": "markdown",
   "id": "970e1b25-204a-4393-ab6a-6627a06c47a6",
   "metadata": {},
   "source": [
    "# Generating Token"
   ]
  },
  {
   "cell_type": "markdown",
   "id": "8dd98930-ee5c-4e76-a5dd-c70b29c02b4e",
   "metadata": {},
   "source": [
    "## Importing libraries"
   ]
  },
  {
   "cell_type": "code",
   "execution_count": 1,
   "id": "9d39bc91",
   "metadata": {},
   "outputs": [],
   "source": [
    "from __future__ import print_function\n",
    "import os.path\n",
    "from google.auth.transport.requests import Request\n",
    "from google.oauth2.credentials import Credentials\n",
    "from google_auth_oauthlib.flow import InstalledAppFlow\n",
    "\n"
   ]
  },
  {
   "cell_type": "code",
   "execution_count": 2,
   "id": "9b601e15",
   "metadata": {},
   "outputs": [
    {
     "name": "stdout",
     "output_type": "stream",
     "text": [
      "/Users/saideepbunny/Projects/Email-Assistant-using-Generative-AI\n"
     ]
    }
   ],
   "source": [
    "### Getting Path of current file\n",
    "import os\n",
    "import sys\n",
    "from pathlib import Path\n",
    "\n",
    "path = Path(os.path.dirname(os.getcwd()))\n",
    "path = str(path)\n",
    "print(path)\n",
    "sys.path.insert(1, path)"
   ]
  },
  {
   "cell_type": "markdown",
   "id": "a3bd9f41-277f-4826-9dac-7d022dc1e619",
   "metadata": {},
   "source": [
    "## Generating token"
   ]
  },
  {
   "cell_type": "code",
   "execution_count": 3,
   "id": "c5398adc",
   "metadata": {},
   "outputs": [],
   "source": [
    "# Required scopes for Gmail and Calendar\n",
    "SCOPES = [\n",
    "    'https://www.googleapis.com/auth/gmail.readonly',\n",
    "    'https://www.googleapis.com/auth/gmail.send',\n",
    "    'https://www.googleapis.com/auth/calendar',\n",
    "    'https://www.googleapis.com/auth/calendar.events',\n",
    "    'https://www.googleapis.com/auth/gmail.modify',\n",
    "    'https://www.googleapis.com/auth/gmail.labels',\n",
    "]\n",
    "\n",
    "# def generate_token():\n",
    "#     creds = None\n",
    "#     if os.path.exists(f'{path}/config/token.json'):\n",
    "#         print(\"✅ token.json already exists.\")\n",
    "#         return\n",
    "#     if os.path.exists(f'{path}/config/client_secret.json'):\n",
    "#         flow = InstalledAppFlow.from_client_secrets_file(f'{path}/config/client_secret.json', SCOPES)\n",
    "#         creds = flow.run_local_server(port=8080, access_type='offline', prompt='consent')\n",
    "#         with open(f'{path}/config/token.json', 'w') as token:\n",
    "#             token.write(creds.to_json())\n",
    "#         print(\"🔐 token.json successfully created.\")\n",
    "#     else:\n",
    "#         print(\"❌ client_secret.json not found.\")\n",
    "\n",
    "# if __name__ == '__main__':\n",
    "#     generate_token()"
   ]
  },
  {
   "cell_type": "code",
   "execution_count": 4,
   "id": "1db1c5d3",
   "metadata": {},
   "outputs": [
    {
     "name": "stdout",
     "output_type": "stream",
     "text": [
      "⚠️ Refresh failed. Re-authentication required: ('invalid_grant: Token has been expired or revoked.', {'error': 'invalid_grant', 'error_description': 'Token has been expired or revoked.'})\n",
      "Please visit this URL to authorize this application: https://accounts.google.com/o/oauth2/auth?response_type=code&client_id=395571329513-g3sb7jontm63qg9nieleombub84s9mi8.apps.googleusercontent.com&redirect_uri=http%3A%2F%2Flocalhost%3A8080%2F&scope=https%3A%2F%2Fwww.googleapis.com%2Fauth%2Fgmail.readonly+https%3A%2F%2Fwww.googleapis.com%2Fauth%2Fgmail.send+https%3A%2F%2Fwww.googleapis.com%2Fauth%2Fcalendar+https%3A%2F%2Fwww.googleapis.com%2Fauth%2Fcalendar.events+https%3A%2F%2Fwww.googleapis.com%2Fauth%2Fgmail.modify+https%3A%2F%2Fwww.googleapis.com%2Fauth%2Fgmail.labels&state=U6YBOziuN4xqyOLGyugPV9g9CquDdM&access_type=offline&prompt=consent\n",
      "🔐 New token.json created.\n",
      "✅ Credentials ready to use.\n"
     ]
    }
   ],
   "source": [
    "def load_credentials():\n",
    "    creds = None\n",
    "    token_path = f\"{path}/config/token.json\"\n",
    "    client_secret_path = f\"{path}/config/client_secret.json\"\n",
    "\n",
    "    # Load existing token if available\n",
    "    if os.path.exists(token_path):\n",
    "        creds = Credentials.from_authorized_user_file(token_path, SCOPES)\n",
    "\n",
    "        # If token is expired but refresh token is available → refresh it\n",
    "        if creds and creds.expired and creds.refresh_token:\n",
    "            try:\n",
    "                creds.refresh(Request())\n",
    "                save_credentials(creds, token_path)\n",
    "                print(\"🔄 Access token refreshed automatically.\")\n",
    "            except Exception as e:\n",
    "                print(\"⚠️ Refresh failed. Re-authentication required:\", e)\n",
    "                creds = authenticate_user(client_secret_path, token_path)\n",
    "        elif not creds.valid:\n",
    "            creds = authenticate_user(client_secret_path, token_path)\n",
    "    else:\n",
    "        creds = authenticate_user(client_secret_path, token_path)\n",
    "\n",
    "    return creds\n",
    "\n",
    "\n",
    "def authenticate_user(client_secret_path, token_path):\n",
    "    \"\"\"Run OAuth flow if no valid token or refresh fails.\"\"\"\n",
    "    flow = InstalledAppFlow.from_client_secrets_file(client_secret_path, SCOPES)\n",
    "    creds = flow.run_local_server(port=8080, access_type='offline', prompt='consent')\n",
    "    save_credentials(creds, token_path)\n",
    "    print(\"🔐 New token.json created.\")\n",
    "    return creds\n",
    "\n",
    "\n",
    "def save_credentials(creds, token_path):\n",
    "    \"\"\"Save token to file.\"\"\"\n",
    "    with open(token_path, 'w') as token:\n",
    "        token.write(creds.to_json())\n",
    "\n",
    "if __name__ == \"__main__\":\n",
    "    creds = load_credentials()\n",
    "    print(\"✅ Credentials ready to use.\")"
   ]
  }
 ],
 "metadata": {
  "kernelspec": {
   "display_name": "mail_asst",
   "language": "python",
   "name": "python3"
  },
  "language_info": {
   "codemirror_mode": {
    "name": "ipython",
    "version": 3
   },
   "file_extension": ".py",
   "mimetype": "text/x-python",
   "name": "python",
   "nbconvert_exporter": "python",
   "pygments_lexer": "ipython3",
   "version": "3.10.18"
  }
 },
 "nbformat": 4,
 "nbformat_minor": 5
}
