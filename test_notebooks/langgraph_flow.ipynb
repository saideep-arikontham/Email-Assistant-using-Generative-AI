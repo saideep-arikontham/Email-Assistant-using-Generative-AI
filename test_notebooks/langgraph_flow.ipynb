{
 "cells": [
  {
   "cell_type": "markdown",
   "metadata": {},
   "source": [
    "# Langgraph flow"
   ]
  },
  {
   "cell_type": "markdown",
   "metadata": {},
   "source": [
    "## Importing libarries"
   ]
  },
  {
   "cell_type": "code",
   "execution_count": 1,
   "metadata": {},
   "outputs": [],
   "source": [
    "from typing_extensions import TypedDict\n",
    "from typing import Literal\n",
    "\n",
    "from langgraph.graph import StateGraph, START, END\n",
    "import json\n"
   ]
  },
  {
   "cell_type": "markdown",
   "metadata": {},
   "source": [
    "## LangGraph state class"
   ]
  },
  {
   "cell_type": "code",
   "execution_count": 2,
   "metadata": {},
   "outputs": [],
   "source": [
    "# Utility Functions\n",
    "class TypedDictState(TypedDict):\n",
    "    state: str\n",
    "    email: str\n",
    "    classification: Literal[\"job_status\", \"online_meet\", \"other\", \"job_and_meet\"]\n",
    "    job_details: dict\n",
    "    tracker_update: Literal[\"Successful\", \"Failed\"]\n",
    "    meet_request_details: dict\n",
    "    meet_details: dict\n",
    "    meet_link_sent: Literal[\"Successful\", \"Failed\"]\n",
    "    is_both_job_and_meet: bool"
   ]
  },
  {
   "cell_type": "markdown",
   "metadata": {},
   "source": [
    "## Email Classification and Routing functions"
   ]
  },
  {
   "cell_type": "code",
   "execution_count": 3,
   "metadata": {},
   "outputs": [],
   "source": [
    "def classify_email(state: TypedDictState) -> dict:\n",
    "    \"\"\"\n",
    "    This function reads the email, classifies it, and updates the state.\n",
    "    \"\"\"\n",
    "    print(\"---CLASSIFYING EMAIL---\")\n",
    "    email = state.get('email')\n",
    "\n",
    "    if email == \"job_and_meet\":\n",
    "        classification = \"job_status\"\n",
    "        is_both_job_and_meet = True\n",
    "    elif email == \"job\":\n",
    "        classification = \"job_status\"\n",
    "        is_both_job_and_meet = False\n",
    "    elif email == \"meet\":\n",
    "        classification = \"online_meet\"\n",
    "        is_both_job_and_meet = False\n",
    "    elif email == \"other\":\n",
    "        classification = \"other\"\n",
    "        is_both_job_and_meet = False\n",
    "    \n",
    "    return {\"classification\": classification, \"is_both_job_and_meet\": is_both_job_and_meet}\n",
    "\n",
    "def route_after_classification(state: TypedDictState) -> Literal[\"job_status\", \"online_meet\", \"other\"]:\n",
    "    \"\"\"\n",
    "    Routes to the correct path based on the email classification stored in the state.\n",
    "    \"\"\"\n",
    "    print(f\"Routing to: {state['classification']}\")\n",
    "    return state[\"classification\"]"
   ]
  },
  {
   "cell_type": "code",
   "execution_count": 4,
   "metadata": {},
   "outputs": [],
   "source": [
    "def route_after_job_tracker(state: TypedDictState) -> Literal[\"online_meet\", \"__end__\"]:\n",
    "    \"\"\"\n",
    "    Routes to the correct path based on the is_both_job_and_meet flag in the state.\n",
    "    \"\"\"\n",
    "    if state[\"is_both_job_and_meet\"]:\n",
    "        print(\"Routing to: online_meet path from job_status flow\")\n",
    "        return \"online_meet\"\n",
    "    else:\n",
    "        print(\"Ending flow after job status update\")\n",
    "        return \"__end__\"\n"
   ]
  },
  {
   "cell_type": "markdown",
   "metadata": {},
   "source": [
    "## Job tracker flow"
   ]
  },
  {
   "cell_type": "code",
   "execution_count": 5,
   "metadata": {},
   "outputs": [],
   "source": [
    "def job_status(state: TypedDictState) -> dict:\n",
    "    \"\"\"A placeholder node representing the job_status check step.\"\"\"\n",
    "    print(\"---IN JOB STATUS PATH---\")\n",
    "    return {}\n",
    "\n",
    "def identify_job_details(state: TypedDictState):\n",
    "    print(\"This function reads the email to extract job title, company name and job status\")\n",
    "    return {\"job_details\": {\"title\": \"Data Scientist\", \"company\": \"Google\", \"status\": \"applied\"}, \"state\": \"Job details extracted\"}\n",
    "\n",
    "def update_tracker(state: TypedDictState):\n",
    "    print(\"This function updated the tracker with extracted job details\")\n",
    "    return {\"tracker_update\": \"Successful\", \"state\": \"Tracker update successful\"}"
   ]
  },
  {
   "cell_type": "code",
   "execution_count": 6,
   "metadata": {},
   "outputs": [],
   "source": [
    "def route_after_job_tracker(state: TypedDictState) -> Literal[\"online_meet\", \"__end__\"]:\n",
    "    \"\"\"\n",
    "    Routes to the correct path based on the is_both_job_and_meet flag in the state.\n",
    "    \"\"\"\n",
    "    if state.get(\"is_both_job_and_meet\"):\n",
    "        print(\"Routing to: online_meet path from job_status flow\")\n",
    "        return \"online_meet\"\n",
    "    else:\n",
    "        print(\"Ending flow after job status update\")\n",
    "        return \"__end__\""
   ]
  },
  {
   "cell_type": "markdown",
   "metadata": {},
   "source": [
    "## Online Meet scheduling flow"
   ]
  },
  {
   "cell_type": "code",
   "execution_count": 7,
   "metadata": {},
   "outputs": [],
   "source": [
    "def online_meet(state: TypedDictState) -> dict:\n",
    "    \"\"\"A placeholder node representing the online_meet check step.\"\"\"\n",
    "    print(\"---IN ONLINE MEET PATH---\")\n",
    "    return {}\n",
    "\n",
    "def identify_meet_timings(state: TypedDictState):\n",
    "    print(\"This function reads the email to extract online meet requested date, time, duration\")\n",
    "    return {\"meet_request_details\": {\"requested_by\": \"johndoe@gmail.com\", \"date\": \"2025-07-13\", \"time\": \"9:00\", \"duration\": \"00:30\"}, \"state\": \"meeting request details extracted\"}\n",
    "\n",
    "def create_meet(state: TypedDictState):\n",
    "    print(\"This function is to create online meet based on identified details\")\n",
    "    return {\"meet_details\": {\"meet_link\": \"abcd link\"}, \"state\": \"meet link created\"}\n",
    "\n",
    "def send_meet_link(state: TypedDictState):\n",
    "    print(\"This function is to draft and send email including meet link\")\n",
    "    return {\"meet_link_sent\": \"Successful\", \"state\": \"meet link sent\"}"
   ]
  },
  {
   "cell_type": "markdown",
   "metadata": {},
   "source": [
    "## Other flow"
   ]
  },
  {
   "cell_type": "code",
   "execution_count": 8,
   "metadata": {},
   "outputs": [],
   "source": [
    "def other(state: TypedDictState):\n",
    "    print(\"---IN OTHER PATH---\")\n",
    "    return {\"state\": \"Other flow triggered\"}"
   ]
  },
  {
   "cell_type": "markdown",
   "metadata": {},
   "source": [
    "## Building LangGraph"
   ]
  },
  {
   "cell_type": "code",
   "execution_count": 9,
   "metadata": {},
   "outputs": [
    {
     "data": {
      "text/plain": [
       "<langgraph.graph.state.StateGraph at 0x10abca3e0>"
      ]
     },
     "execution_count": 9,
     "metadata": {},
     "output_type": "execute_result"
    }
   ],
   "source": [
    "# Build the LangGraph\n",
    "graph_builder = StateGraph(TypedDictState)\n",
    "\n",
    "# Graph Nodes\n",
    "graph_builder.add_node(\"classify_email\", classify_email)\n",
    "graph_builder.add_node(\"job_status\", job_status)\n",
    "graph_builder.add_node(\"online_meet\", online_meet)\n",
    "graph_builder.add_node(\"other\", other)\n",
    "\n",
    "graph_builder.add_node(\"identify_job_details\", identify_job_details)\n",
    "graph_builder.add_node(\"update_tracker\", update_tracker)\n",
    "\n",
    "graph_builder.add_node(\"identify_meet_timings\", identify_meet_timings)\n",
    "graph_builder.add_node(\"create_meet\", create_meet)\n",
    "graph_builder.add_node(\"send_meet_link\", send_meet_link)\n",
    "\n",
    "# Graph Edges\n",
    "graph_builder.add_edge(START, \"classify_email\")\n",
    "graph_builder.add_conditional_edges(\"classify_email\", route_after_classification)\n",
    "\n",
    "graph_builder.add_edge(\"job_status\", \"identify_job_details\")\n",
    "graph_builder.add_edge(\"identify_job_details\", \"update_tracker\")\n",
    "graph_builder.add_conditional_edges(\n",
    "    \"update_tracker\",\n",
    "    route_after_job_tracker,\n",
    "    {\n",
    "        \"online_meet\": \"online_meet\",\n",
    "        \"__end__\": END\n",
    "    }\n",
    ")\n",
    "\n",
    "graph_builder.add_edge(\"online_meet\", \"identify_meet_timings\")\n",
    "graph_builder.add_edge(\"identify_meet_timings\", \"create_meet\")\n",
    "graph_builder.add_edge(\"create_meet\", \"send_meet_link\")\n",
    "graph_builder.add_edge(\"send_meet_link\", END)\n",
    "\n",
    "graph_builder.add_edge(\"other\", END)"
   ]
  },
  {
   "cell_type": "markdown",
   "metadata": {},
   "source": [
    "## Creating Graph and Displaying"
   ]
  },
  {
   "cell_type": "code",
   "execution_count": 10,
   "metadata": {},
   "outputs": [
    {
     "data": {
      "image/png": "[encoded data removed]",
      "text/plain": [
       "<IPython.core.display.Image object>"
      ]
     },
     "metadata": {},
     "output_type": "display_data"
    }
   ],
   "source": [
    "# Compile the graph\n",
    "graph = graph_builder.compile()\n",
    "\n",
    "from IPython.display import Image, display\n",
    "\n",
    "try:\n",
    "    display(Image(graph.get_graph().draw_mermaid_png()))\n",
    "except Exception:\n",
    "    # This requires some extra dependencies and is optional\n",
    "    print(\"gone\")\n",
    "    pass"
   ]
  },
  {
   "cell_type": "markdown",
   "metadata": {},
   "source": [
    "## Testing LangGraph"
   ]
  },
  {
   "cell_type": "code",
   "execution_count": 11,
   "metadata": {},
   "outputs": [
    {
     "name": "stdout",
     "output_type": "stream",
     "text": [
      "Invoking with 'job' email...\n",
      "---CLASSIFYING EMAIL---\n",
      "Routing to: job_status\n",
      "---IN JOB STATUS PATH---\n",
      "This function reads the email to extract job title, company name and job status\n",
      "This function updated the tracker with extracted job details\n",
      "Ending flow after job status update\n"
     ]
    },
    {
     "data": {
      "text/plain": [
       "{'state': 'Tracker update successful',\n",
       " 'email': 'job',\n",
       " 'classification': 'job_status',\n",
       " 'job_details': {'title': 'Data Scientist',\n",
       "  'company': 'Google',\n",
       "  'status': 'applied'},\n",
       " 'tracker_update': 'Successful',\n",
       " 'is_both_job_and_meet': False}"
      ]
     },
     "execution_count": 11,
     "metadata": {},
     "output_type": "execute_result"
    }
   ],
   "source": [
    "print(\"Invoking with 'job' email...\")\n",
    "graph.invoke({\"email\": \"job\"})"
   ]
  },
  {
   "cell_type": "code",
   "execution_count": 12,
   "metadata": {},
   "outputs": [
    {
     "name": "stdout",
     "output_type": "stream",
     "text": [
      "\n",
      "Invoking with 'meet' email...\n",
      "---CLASSIFYING EMAIL---\n",
      "Routing to: online_meet\n",
      "---IN ONLINE MEET PATH---\n",
      "This function reads the email to extract online meet requested date, time, duration\n",
      "This function is to create online meet based on identified details\n",
      "This function is to draft and send email including meet link\n"
     ]
    },
    {
     "data": {
      "text/plain": [
       "{'state': 'meet link sent',\n",
       " 'email': 'meet',\n",
       " 'classification': 'online_meet',\n",
       " 'meet_request_details': {'requested_by': 'johndoe@gmail.com',\n",
       "  'date': '2025-07-13',\n",
       "  'time': '9:00',\n",
       "  'duration': '00:30'},\n",
       " 'meet_details': {'meet_link': 'abcd link'},\n",
       " 'meet_link_sent': 'Successful',\n",
       " 'is_both_job_and_meet': False}"
      ]
     },
     "execution_count": 12,
     "metadata": {},
     "output_type": "execute_result"
    }
   ],
   "source": [
    "print(\"\\nInvoking with 'meet' email...\")\n",
    "graph.invoke({\"email\": \"meet\"})"
   ]
  },
  {
   "cell_type": "code",
   "execution_count": 13,
   "metadata": {},
   "outputs": [
    {
     "name": "stdout",
     "output_type": "stream",
     "text": [
      "\n",
      "Invoking with 'other' email...\n",
      "---CLASSIFYING EMAIL---\n",
      "Routing to: other\n",
      "---IN OTHER PATH---\n"
     ]
    },
    {
     "data": {
      "text/plain": [
       "{'state': 'Other flow triggered',\n",
       " 'email': 'other',\n",
       " 'classification': 'other',\n",
       " 'is_both_job_and_meet': False}"
      ]
     },
     "execution_count": 13,
     "metadata": {},
     "output_type": "execute_result"
    }
   ],
   "source": [
    "print(\"\\nInvoking with 'other' email...\")\n",
    "graph.invoke({\"email\": \"other\"})"
   ]
  },
  {
   "cell_type": "code",
   "execution_count": 14,
   "metadata": {},
   "outputs": [
    {
     "name": "stdout",
     "output_type": "stream",
     "text": [
      "\n",
      "Invoking with 'job_and_meet' email...\n",
      "---CLASSIFYING EMAIL---\n",
      "Routing to: job_status\n",
      "---IN JOB STATUS PATH---\n",
      "This function reads the email to extract job title, company name and job status\n",
      "This function updated the tracker with extracted job details\n",
      "Routing to: online_meet path from job_status flow\n",
      "---IN ONLINE MEET PATH---\n",
      "This function reads the email to extract online meet requested date, time, duration\n",
      "This function is to create online meet based on identified details\n",
      "This function is to draft and send email including meet link\n"
     ]
    },
    {
     "data": {
      "text/plain": [
       "{'state': 'meet link sent',\n",
       " 'email': 'job_and_meet',\n",
       " 'classification': 'job_status',\n",
       " 'job_details': {'title': 'Data Scientist',\n",
       "  'company': 'Google',\n",
       "  'status': 'applied'},\n",
       " 'tracker_update': 'Successful',\n",
       " 'meet_request_details': {'requested_by': 'johndoe@gmail.com',\n",
       "  'date': '2025-07-13',\n",
       "  'time': '9:00',\n",
       "  'duration': '00:30'},\n",
       " 'meet_details': {'meet_link': 'abcd link'},\n",
       " 'meet_link_sent': 'Successful',\n",
       " 'is_both_job_and_meet': True}"
      ]
     },
     "execution_count": 14,
     "metadata": {},
     "output_type": "execute_result"
    }
   ],
   "source": [
    "print(\"\\nInvoking with 'job_and_meet' email...\")\n",
    "graph.invoke({\"email\": \"job_and_meet\"})"
   ]
  },
  {
   "cell_type": "code",
   "execution_count": null,
   "metadata": {},
   "outputs": [],
   "source": []
  }
 ],
 "metadata": {
  "kernelspec": {
   "display_name": "mail_asst",
   "language": "python",
   "name": "python3"
  },
  "language_info": {
   "codemirror_mode": {
    "name": "ipython",
    "version": 3
   },
   "file_extension": ".py",
   "mimetype": "text/x-python",
   "name": "python",
   "nbconvert_exporter": "python",
   "pygments_lexer": "ipython3",
   "version": "3.10.18"
  }
 },
 "nbformat": 4,
 "nbformat_minor": 4
}
