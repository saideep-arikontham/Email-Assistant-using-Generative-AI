{
 "cells": [
  {
   "cell_type": "markdown",
   "id": "7aab6498",
   "metadata": {},
   "source": [
    "# Testing Tracker updation"
   ]
  },
  {
   "cell_type": "markdown",
   "id": "fba6685f",
   "metadata": {},
   "source": [
    "## Importing libraries"
   ]
  },
  {
   "cell_type": "code",
   "execution_count": 1,
   "id": "615eb342",
   "metadata": {},
   "outputs": [
    {
     "name": "stdout",
     "output_type": "stream",
     "text": [
      "/Users/saideepbunny/Projects/Email-Assistant-using-Generative-AI\n"
     ]
    }
   ],
   "source": [
    "# -----------------------------\n",
    "# IMPORTING LIBRARIES\n",
    "# -----------------------------\n",
    "\n",
    "import pandas as pd\n",
    "import os\n",
    "import sys\n",
    "from pathlib import Path\n",
    "from langgraph_flow import *\n",
    "\n",
    "# -----------------------------\n",
    "# SETTING UP PATH\n",
    "# -----------------------------\n",
    "\n",
    "path = Path(os.path.dirname(os.getcwd()))\n",
    "path = str(path)\n",
    "print(path)\n",
    "sys.path.insert(1, path)"
   ]
  },
  {
   "cell_type": "markdown",
   "id": "0689e5be",
   "metadata": {},
   "source": [
    "## Upsert functions"
   ]
  },
  {
   "cell_type": "code",
   "execution_count": 2,
   "id": "4a27d7d7",
   "metadata": {},
   "outputs": [],
   "source": [
    "def upsert_applications(sheet_name, updates_df: pd.DataFrame,\n",
    "                        overwrite: bool = True):\n",
    "    \"\"\"\n",
    "    Upsert rows from `updates_df` into the Excel 'base' sheet using\n",
    "    ['company_name','job_title'] as the composite key, then save back\n",
    "    to the same file/sheet.\n",
    "\n",
    "    Columns: ['company_name','job_title','job_id','application_status']\n",
    "    - overwrite=True: replace entire matching rows\n",
    "    - overwrite=False: update only where incoming has non-null values\n",
    "    \"\"\"\n",
    "    cols = [\"company_name\", \"job_title\", \"job_id\", \"application_status\"]\n",
    "\n",
    "    # Read current sheet\n",
    "    base = read_tracker_file(sheet_name)\n",
    "    updates_df = updates_df.copy()[cols]\n",
    "\n",
    "    # If updates_df has duplicate keys, keep the last one\n",
    "    updates_df = updates_df.drop_duplicates(\n",
    "        subset=[\"company_name\", \"job_title\"], keep=\"last\"\n",
    "    )\n",
    "\n",
    "    # Composite index for clean upsert\n",
    "    base_i    = base.set_index([\"company_name\", \"job_title\"])\n",
    "    updates_i = updates_df.set_index([\"company_name\", \"job_title\"])\n",
    "\n",
    "    out = base_i.copy()\n",
    "\n",
    "    # ---- UPDATE (existing keys) ----\n",
    "    if overwrite:\n",
    "        common = out.index.intersection(updates_i.index)\n",
    "        out.loc[common] = updates_i.loc[common]\n",
    "    else:\n",
    "        out.update(updates_i)  # only non-null values from updates_df overwrite\n",
    "\n",
    "    # ---- INSERT (new keys) ----\n",
    "    new_only = updates_i.index.difference(out.index)\n",
    "    out = pd.concat([out, updates_i.loc[new_only]], axis=0)\n",
    "\n",
    "    # Final DataFrame\n",
    "    out_df = out.reset_index()\n",
    "    print(out_df)\n",
    "\n",
    "    # ---- SAVE back to the same file and sheet ----\n",
    "    # assumes global variable `path` points to the Excel file\n",
    "    try:\n",
    "        with pd.ExcelWriter(f\"{path}/data/application_tracker.xlsx\", engine=\"openpyxl\", mode=\"a\", if_sheet_exists=\"replace\") as writer:\n",
    "            out_df.to_excel(writer, sheet_name=sheet_name, index=False)\n",
    "        print(f\"Updated tracker file at {path}/data/application_tracker.xlsx, sheet: {sheet_name}\")\n",
    "    except FileNotFoundError:\n",
    "        # If file doesn't exist yet, create it\n",
    "        with pd.ExcelWriter(f\"{path}/data/application_tracker.xlsx\", engine=\"openpyxl\", mode=\"w\") as writer:\n",
    "            out_df.to_excel(writer, sheet_name=sheet_name, index=False)\n",
    "\n",
    "\n",
    "\n",
    "def read_tracker_file(sheet_name=\"tracker\"):\n",
    "    \"\"\"\n",
    "    Reads the base Excel, normalizes headers, and returns:\n",
    "    ['company_name','job_title','job_id','application_status']\n",
    "    \"\"\"\n",
    "    # Read (keep job_id as string so leading zeros aren’t lost)\n",
    "    df = pd.read_excel(f\"{path}/data/application_tracker.xlsx\", sheet_name=sheet_name)\n",
    "\n",
    "    # Required columns\n",
    "    cols = [\"company_name\", \"job_title\", \"job_id\", \"application_status\"]\n",
    "    missing = [c for c in cols if c not in df.columns]\n",
    "    if missing:\n",
    "        raise ValueError(f\"Missing required columns in {Path(path).name}: {missing}\")\n",
    "\n",
    "    # Return only needed columns, drop empty key rows\n",
    "    return (df[cols]\n",
    "            .dropna(subset=[\"company_name\"])\n",
    "            .reset_index(drop=True))\n"
   ]
  },
  {
   "cell_type": "markdown",
   "id": "2af1a636",
   "metadata": {},
   "source": [
    "## Test"
   ]
  },
  {
   "cell_type": "code",
   "execution_count": 3,
   "id": "ceec3db2",
   "metadata": {},
   "outputs": [],
   "source": [
    "email1 = \"\"\"We have received your application for Analyst, Data Science - 2025-71048\n",
    "Hello Saideep,\n",
    "\n",
    "Thank you for applying to our Analyst, Data Science position. We’re reviewing your application and will be in touch if your experience is a match for our current needs.\n",
    "We appreciate your interest in Liberty Mutual Insurance.\n",
    "\n",
    "Thank you,\n",
    "Talent Acquisition\n",
    "\n",
    " \n",
    "\n",
    "Replies to this message are undeliverable and will not reach Talent Acquisition. Please do not reply.\"\"\"\n",
    "\n",
    "email2 = \"\"\"Hello Saideep, \n",
    "Thank you for your interest in the Analyst, Data Science- 2025-71048 position. After careful review of your application and resume, we have decided to move forward with other applicants whose skills and experience better align with our needs at this time.\n",
    "To learn about additional career opportunities at Liberty Mutual Insurance, we invite you to join one of our Talent Communities.   \n",
    "Again, we appreciate your interest in Liberty Mutual. \n",
    " \n",
    "Thank you, \n",
    "Talent Acquisition  \"\"\""
   ]
  },
  {
   "cell_type": "code",
   "execution_count": 4,
   "id": "28bc4e8b",
   "metadata": {},
   "outputs": [],
   "source": [
    "graph = build_graph()"
   ]
  },
  {
   "cell_type": "code",
   "execution_count": 5,
   "id": "2ade6509",
   "metadata": {},
   "outputs": [
    {
     "data": {
      "image/png": "[encoded data removed]",
      "text/plain": [
       "<IPython.core.display.Image object>"
      ]
     },
     "metadata": {},
     "output_type": "display_data"
    }
   ],
   "source": [
    "from IPython.display import Image, display\n",
    "\n",
    "try:\n",
    "    display(Image(graph.get_graph().draw_mermaid_png()))\n",
    "except Exception:\n",
    "    # This requires some extra dependencies and is optional\n",
    "    print(\"gone\")\n",
    "    pass"
   ]
  },
  {
   "cell_type": "code",
   "execution_count": 6,
   "id": "80cd19a3",
   "metadata": {},
   "outputs": [
    {
     "name": "stdout",
     "output_type": "stream",
     "text": [
      "---CLASSIFYING EMAIL---\n",
      "['True', 'False', 'False']\n",
      "Routing to: JOB\n",
      "---IN JOB STATUS PATH---\n",
      "This function reads the email to extract job title, company name and job status\n",
      "This function updated the tracker with extracted job details\n"
     ]
    },
    {
     "data": {
      "text/plain": [
       "{'company_name': 'Liberty Mutual Insurance',\n",
       " 'job_title': 'Analyst, Data Science',\n",
       " 'job_id': '2025-71048',\n",
       " 'application_status': 'applied'}"
      ]
     },
     "execution_count": 6,
     "metadata": {},
     "output_type": "execute_result"
    }
   ],
   "source": [
    "result = graph.invoke({\"email\": email1})\n",
    "result['job_details']"
   ]
  },
  {
   "cell_type": "code",
   "execution_count": 7,
   "id": "dc219b52",
   "metadata": {},
   "outputs": [
    {
     "data": {
      "text/html": [
       "<div>\n",
       "<style scoped>\n",
       "    .dataframe tbody tr th:only-of-type {\n",
       "        vertical-align: middle;\n",
       "    }\n",
       "\n",
       "    .dataframe tbody tr th {\n",
       "        vertical-align: top;\n",
       "    }\n",
       "\n",
       "    .dataframe thead th {\n",
       "        text-align: right;\n",
       "    }\n",
       "</style>\n",
       "<table border=\"1\" class=\"dataframe\">\n",
       "  <thead>\n",
       "    <tr style=\"text-align: right;\">\n",
       "      <th></th>\n",
       "      <th>company_name</th>\n",
       "      <th>job_title</th>\n",
       "      <th>job_id</th>\n",
       "      <th>application_status</th>\n",
       "    </tr>\n",
       "  </thead>\n",
       "  <tbody>\n",
       "    <tr>\n",
       "      <th>0</th>\n",
       "      <td>Liberty Mutual Insurance</td>\n",
       "      <td>Analyst, Data Science</td>\n",
       "      <td>2025-71048</td>\n",
       "      <td>applied</td>\n",
       "    </tr>\n",
       "  </tbody>\n",
       "</table>\n",
       "</div>"
      ],
      "text/plain": [
       "               company_name              job_title      job_id  \\\n",
       "0  Liberty Mutual Insurance  Analyst, Data Science  2025-71048   \n",
       "\n",
       "  application_status  \n",
       "0            applied  "
      ]
     },
     "execution_count": 7,
     "metadata": {},
     "output_type": "execute_result"
    }
   ],
   "source": [
    "updates_df = pd.DataFrame(result['job_details'], index=[0])\n",
    "updates_df"
   ]
  },
  {
   "cell_type": "code",
   "execution_count": 8,
   "id": "a65bbbcd",
   "metadata": {},
   "outputs": [
    {
     "name": "stdout",
     "output_type": "stream",
     "text": [
      "               company_name              job_title      job_id  \\\n",
      "0  Liberty Mutual Insurance  Analyst, Data Science  2025-71048   \n",
      "\n",
      "  application_status  \n",
      "0            applied  \n",
      "Updated tracker file at /Users/saideepbunny/Projects/Email-Assistant-using-Generative-AI/data/application_tracker.xlsx, sheet: test_tracker\n"
     ]
    }
   ],
   "source": [
    "upsert_applications(\"test_tracker\", updates_df)"
   ]
  },
  {
   "cell_type": "code",
   "execution_count": 9,
   "id": "cba94653",
   "metadata": {},
   "outputs": [
    {
     "name": "stdout",
     "output_type": "stream",
     "text": [
      "---CLASSIFYING EMAIL---\n",
      "['True', 'False', 'False']\n",
      "Routing to: JOB\n",
      "---IN JOB STATUS PATH---\n",
      "This function reads the email to extract job title, company name and job status\n",
      "This function updated the tracker with extracted job details\n"
     ]
    },
    {
     "data": {
      "text/plain": [
       "{'company_name': 'Liberty Mutual Insurance',\n",
       " 'job_title': 'Analyst, Data Science',\n",
       " 'job_id': '2025-71048',\n",
       " 'application_status': 'rejected'}"
      ]
     },
     "execution_count": 9,
     "metadata": {},
     "output_type": "execute_result"
    }
   ],
   "source": [
    "result = graph.invoke({\"email\": email2})\n",
    "result['job_details']"
   ]
  },
  {
   "cell_type": "code",
   "execution_count": 10,
   "id": "430d7a8a",
   "metadata": {},
   "outputs": [
    {
     "data": {
      "text/html": [
       "<div>\n",
       "<style scoped>\n",
       "    .dataframe tbody tr th:only-of-type {\n",
       "        vertical-align: middle;\n",
       "    }\n",
       "\n",
       "    .dataframe tbody tr th {\n",
       "        vertical-align: top;\n",
       "    }\n",
       "\n",
       "    .dataframe thead th {\n",
       "        text-align: right;\n",
       "    }\n",
       "</style>\n",
       "<table border=\"1\" class=\"dataframe\">\n",
       "  <thead>\n",
       "    <tr style=\"text-align: right;\">\n",
       "      <th></th>\n",
       "      <th>company_name</th>\n",
       "      <th>job_title</th>\n",
       "      <th>job_id</th>\n",
       "      <th>application_status</th>\n",
       "    </tr>\n",
       "  </thead>\n",
       "  <tbody>\n",
       "    <tr>\n",
       "      <th>0</th>\n",
       "      <td>Liberty Mutual Insurance</td>\n",
       "      <td>Analyst, Data Science</td>\n",
       "      <td>2025-71048</td>\n",
       "      <td>rejected</td>\n",
       "    </tr>\n",
       "  </tbody>\n",
       "</table>\n",
       "</div>"
      ],
      "text/plain": [
       "               company_name              job_title      job_id  \\\n",
       "0  Liberty Mutual Insurance  Analyst, Data Science  2025-71048   \n",
       "\n",
       "  application_status  \n",
       "0           rejected  "
      ]
     },
     "execution_count": 10,
     "metadata": {},
     "output_type": "execute_result"
    }
   ],
   "source": [
    "updates_df = pd.DataFrame(result['job_details'], index=[0])\n",
    "updates_df"
   ]
  },
  {
   "cell_type": "code",
   "execution_count": 11,
   "id": "a3c7aef4",
   "metadata": {},
   "outputs": [
    {
     "name": "stdout",
     "output_type": "stream",
     "text": [
      "               company_name              job_title      job_id  \\\n",
      "0  Liberty Mutual Insurance  Analyst, Data Science  2025-71048   \n",
      "\n",
      "  application_status  \n",
      "0           rejected  \n",
      "Updated tracker file at /Users/saideepbunny/Projects/Email-Assistant-using-Generative-AI/data/application_tracker.xlsx, sheet: test_tracker\n"
     ]
    }
   ],
   "source": [
    "upsert_applications(\"test_tracker\", updates_df)"
   ]
  }
 ],
 "metadata": {
  "kernelspec": {
   "display_name": "mail_asst",
   "language": "python",
   "name": "python3"
  },
  "language_info": {
   "codemirror_mode": {
    "name": "ipython",
    "version": 3
   },
   "file_extension": ".py",
   "mimetype": "text/x-python",
   "name": "python",
   "nbconvert_exporter": "python",
   "pygments_lexer": "ipython3",
   "version": "3.10.18"
  }
 },
 "nbformat": 4,
 "nbformat_minor": 5
}
